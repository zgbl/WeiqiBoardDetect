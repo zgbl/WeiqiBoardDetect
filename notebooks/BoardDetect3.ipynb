{
  "nbformat": 4,
  "nbformat_minor": 0,
  "metadata": {
    "colab": {
      "provenance": [],
      "authorship_tag": "ABX9TyMOl3SfnPDHdhNxqdP5lzkj",
      "include_colab_link": true
    },
    "kernelspec": {
      "name": "python3",
      "display_name": "Python 3"
    },
    "language_info": {
      "name": "python"
    }
  },
  "cells": [
    {
      "cell_type": "markdown",
      "metadata": {
        "id": "view-in-github",
        "colab_type": "text"
      },
      "source": [
        "<a href=\"https://colab.research.google.com/github/zgbl/WeiqiBoardDetect/blob/main/notebooks/BoardDetect3.ipynb\" target=\"_parent\"><img src=\"https://colab.research.google.com/assets/colab-badge.svg\" alt=\"Open In Colab\"/></a>"
      ]
    },
    {
      "cell_type": "code",
      "execution_count": null,
      "metadata": {
        "id": "cBgkJG-Bl-Gp"
      },
      "outputs": [],
      "source": []
    },
    {
      "cell_type": "code",
      "source": [
        "import cv2\n",
        "import numpy as np\n",
        "import matplotlib.pyplot as plt\n",
        "from google.colab import files\n",
        "from PIL import Image\n",
        "import io"
      ],
      "metadata": {
        "id": "ZFGmh_G1mEHs"
      },
      "execution_count": 1,
      "outputs": []
    },
    {
      "cell_type": "code",
      "source": [
        "class GoBoardAnalyzer:\n",
        "    def __init__(self):\n",
        "        self.board_size = 19  # 标准围棋棋盘19x19\n",
        "        self.corners = []\n",
        "        self.grid_points = []\n",
        "        self.stones = []"
      ],
      "metadata": {
        "id": "KHiWvRVipCSy"
      },
      "execution_count": 2,
      "outputs": []
    },
    {
      "cell_type": "code",
      "source": [
        "    def upload_and_load_image(self):\n",
        "        \"\"\"上传并加载图像\"\"\"\n",
        "        print(\"请上传围棋棋盘图像...\")\n",
        "        uploaded = files.upload()\n",
        "        filename = list(uploaded.keys())[0]\n",
        "\n",
        "        # 读取图像\n",
        "        image_data = uploaded[filename]\n",
        "        image = Image.open(io.BytesIO(image_data))\n",
        "\n",
        "        # 转换为OpenCV格式\n",
        "        self.original_image = cv2.cvtColor(np.array(image), cv2.COLOR_RGB2BGR)\n",
        "        self.image = self.original_image.copy()\n",
        "\n",
        "        print(f\"图像加载成功，尺寸: {self.image.shape}\")\n",
        "        return self.image"
      ],
      "metadata": {
        "id": "_3cFUPnVpG2v"
      },
      "execution_count": null,
      "outputs": []
    },
    {
      "cell_type": "code",
      "source": [
        "    def detect_board_corners(self):\n",
        "        \"\"\"检测棋盘四角\"\"\"\n",
        "        # 转换为灰度图\n",
        "        gray = cv2.cvtColor(self.image, cv2.COLOR_BGR2GRAY)\n",
        "\n",
        "        # 高斯模糊\n",
        "        blurred = cv2.GaussianBlur(gray, (5, 5), 0)\n",
        "\n",
        "        # 边缘检测\n",
        "        edges = cv2.Canny(blurred, 50, 150, apertureSize=3)\n",
        "\n",
        "        # 霍夫直线检测\n",
        "        lines = cv2.HoughLines(edges, 1, np.pi/180, threshold=100)\n",
        "\n",
        "        if lines is not None:\n",
        "            # 分离水平和垂直线\n",
        "            horizontal_lines = []\n",
        "            vertical_lines = []\n",
        "\n",
        "            for line in lines:\n",
        "                rho, theta = line[0]\n",
        "                if abs(theta) < 0.1 or abs(theta - np.pi) < 0.1:  # 水平线\n",
        "                    horizontal_lines.append((rho, theta))\n",
        "                elif abs(theta - np.pi/2) < 0.1:  # 垂直线\n",
        "                    vertical_lines.append((rho, theta))\n",
        "\n",
        "            # 找到边界线\n",
        "            if horizontal_lines and vertical_lines:\n",
        "                h_rhos = [rho for rho, theta in horizontal_lines]\n",
        "                v_rhos = [rho for rho, theta in vertical_lines]\n",
        "\n",
        "                # 棋盘边界\n",
        "                top_rho = min(h_rhos)\n",
        "                bottom_rho = max(h_rhos)\n",
        "                left_rho = min(v_rhos)\n",
        "                right_rho = max(v_rhos)\n",
        "\n",
        "                # 计算四个角点\n",
        "                height, width = self.image.shape[:2]\n",
        "\n",
        "                # 简化的角点计算\n",
        "                self.corners = [\n",
        "                    (int(left_rho), int(abs(top_rho))),      # 左上\n",
        "                    (int(right_rho), int(abs(top_rho))),     # 右上\n",
        "                    (int(left_rho), int(abs(bottom_rho))),   # 左下\n",
        "                    (int(right_rho), int(abs(bottom_rho)))   # 右下\n",
        "                ]\n",
        "\n",
        "        print(f\"检测到棋盘角点: {self.corners}\")\n",
        "        return self.corners"
      ],
      "metadata": {
        "id": "8oTA4WM5pN-D"
      },
      "execution_count": null,
      "outputs": []
    },
    {
      "cell_type": "code",
      "source": [
        "    def detect_grid_lines(self):\n",
        "        \"\"\"检测棋盘网格线和交叉点\"\"\"\n",
        "        if len(self.corners) < 4:\n",
        "            print(\"需要先检测棋盘角点\")\n",
        "            return []\n",
        "\n",
        "        # 使用角点信息计算网格\n",
        "        top_left, top_right, bottom_left, bottom_right = self.corners\n",
        "\n",
        "        # 计算棋盘区域\n",
        "        x_min = min(top_left[0], bottom_left[0])\n",
        "        x_max = max(top_right[0], bottom_right[0])\n",
        "        y_min = min(top_left[1], top_right[1])\n",
        "        y_max = max(bottom_left[1], bottom_right[1])\n",
        "\n",
        "        # 生成网格交叉点\n",
        "        self.grid_points = []\n",
        "        for i in range(self.board_size):\n",
        "            for j in range(self.board_size):\n",
        "                x = x_min + (x_max - x_min) * j / (self.board_size - 1)\n",
        "                y = y_min + (y_max - y_min) * i / (self.board_size - 1)\n",
        "                self.grid_points.append((int(x), int(y)))\n",
        "\n",
        "        print(f\"生成了 {len(self.grid_points)} 个网格交叉点\")\n",
        "        return self.grid_points"
      ],
      "metadata": {
        "id": "cMtI4NAIpRKs"
      },
      "execution_count": null,
      "outputs": []
    },
    {
      "cell_type": "code",
      "source": [
        "    def detect_stones(self):\n",
        "        \"\"\"检测黑白棋子及其位置\"\"\"\n",
        "        if not self.grid_points:\n",
        "            print(\"需要先检测网格点\")\n",
        "            return []\n",
        "\n",
        "        gray = cv2.cvtColor(self.image, cv2.COLOR_BGR2GRAY)\n",
        "\n",
        "        # 使用HoughCircles检测圆形（棋子）\n",
        "        circles = cv2.HoughCircles(\n",
        "            gray,\n",
        "            cv2.HOUGH_GRADIENT,\n",
        "            dp=1.2,\n",
        "            minDist=20,\n",
        "            param1=50,\n",
        "            param2=30,\n",
        "            minRadius=8,\n",
        "            maxRadius=25\n",
        "        )\n",
        "\n",
        "        self.stones = []\n",
        "        if circles is not None:\n",
        "            circles = np.round(circles[0, :]).astype(\"int\")\n",
        "\n",
        "            for (x, y, r) in circles:\n",
        "                # 找到最近的网格点\n",
        "                min_dist = float('inf')\n",
        "                closest_grid_idx = -1\n",
        "\n",
        "                for idx, (gx, gy) in enumerate(self.grid_points):\n",
        "                    dist = np.sqrt((x - gx)**2 + (y - gy)**2)\n",
        "                    if dist < min_dist and dist < 25:  # 阈值距离\n",
        "                        min_dist = dist\n",
        "                        closest_grid_idx = idx\n",
        "\n",
        "                if closest_grid_idx != -1:\n",
        "                    # 判断黑白子\n",
        "                    # 提取棋子区域的平均亮度\n",
        "                    mask = np.zeros(gray.shape, dtype=np.uint8)\n",
        "                    cv2.circle(mask, (x, y), r-2, 255, -1)\n",
        "                    mean_intensity = cv2.mean(gray, mask=mask)[0]\n",
        "\n",
        "                    # 根据亮度判断黑白\n",
        "                    stone_color = 'white' if mean_intensity > 127 else 'black'\n",
        "\n",
        "                    # 转换为棋盘坐标\n",
        "                    grid_row = closest_grid_idx // self.board_size\n",
        "                    grid_col = closest_grid_idx % self.board_size\n",
        "\n",
        "                    self.stones.append({\n",
        "                        'position': (grid_row, grid_col),\n",
        "                        'pixel_pos': (x, y),\n",
        "                        'color': stone_color,\n",
        "                        'radius': r\n",
        "                    })\n",
        "\n",
        "        print(f\"检测到 {len(self.stones)} 个棋子\")\n",
        "        return self.stones\n",
        ""
      ],
      "metadata": {
        "id": "w7gt5PaopUYt"
      },
      "execution_count": null,
      "outputs": []
    },
    {
      "cell_type": "code",
      "source": [
        "    def visualize_results(self):\n",
        "        \"\"\"可视化检测结果\"\"\"\n",
        "        result_image = self.original_image.copy()\n",
        "\n",
        "        # 绘制角点\n",
        "        for i, corner in enumerate(self.corners):\n",
        "            cv2.circle(result_image, corner, 8, (0, 255, 0), -1)\n",
        "            cv2.putText(result_image, f'C{i+1}',\n",
        "                       (corner[0]+10, corner[1]-10),\n",
        "                       cv2.FONT_HERSHEY_SIMPLEX, 0.5, (0, 255, 0), 2)\n",
        "\n",
        "        # 绘制网格点\n",
        "        for point in self.grid_points:\n",
        "            cv2.circle(result_image, point, 2, (255, 0, 0), -1)\n",
        "\n",
        "        # 绘制棋子\n",
        "        for stone in self.stones:\n",
        "            x, y = stone['pixel_pos']\n",
        "            color = (0, 0, 255) if stone['color'] == 'black' else (255, 255, 255)\n",
        "            cv2.circle(result_image, (x, y), stone['radius'], color, 2)\n",
        "\n",
        "            # 添加位置标注\n",
        "            pos_text = f\"{stone['position']}\"\n",
        "            cv2.putText(result_image, pos_text, (x-20, y-stone['radius']-5),\n",
        "                       cv2.FONT_HERSHEY_SIMPLEX, 0.3, (0, 255, 255), 1)\n",
        "\n",
        "        # 显示结果\n",
        "        plt.figure(figsize=(12, 8))\n",
        "        plt.subplot(1, 2, 1)\n",
        "        plt.imshow(cv2.cvtColor(self.original_image, cv2.COLOR_BGR2RGB))\n",
        "        plt.title('原始图像')\n",
        "        plt.axis('off')\n",
        "\n",
        "        plt.subplot(1, 2, 2)\n",
        "        plt.imshow(cv2.cvtColor(result_image, cv2.COLOR_BGR2RGB))\n",
        "        plt.title('检测结果')\n",
        "        plt.axis('off')\n",
        "\n",
        "        plt.tight_layout()\n",
        "        plt.show()"
      ],
      "metadata": {
        "id": "iX24qTLUpeVD"
      },
      "execution_count": null,
      "outputs": []
    },
    {
      "cell_type": "code",
      "source": [
        "    def analyze_board_state(self):\n",
        "        \"\"\"分析棋盘状态\"\"\"\n",
        "        print(\"\\n=== 棋盘分析结果 ===\")\n",
        "        print(f\"检测到角点数量: {len(self.corners)}\")\n",
        "        print(f\"网格交叉点数量: {len(self.grid_points)}\")\n",
        "        print(f\"棋子总数: {len(self.stones)}\")\n",
        "\n",
        "        # 统计黑白子\n",
        "        black_count = sum(1 for stone in self.stones if stone['color'] == 'black')\n",
        "        white_count = sum(1 for stone in self.stones if stone['color'] == 'white')\n",
        "\n",
        "        print(f\"黑子数量: {black_count}\")\n",
        "        print(f\"白子数量: {white_count}\")\n",
        "\n",
        "        print(\"\\n棋子位置详情:\")\n",
        "        for stone in self.stones:\n",
        "            print(f\"位置 {stone['position']}: {stone['color']} 子\")"
      ],
      "metadata": {
        "id": "9mbqvevrpu33"
      },
      "execution_count": null,
      "outputs": []
    },
    {
      "cell_type": "code",
      "source": [
        "    def run_full_analysis(self):\n",
        "        \"\"\"运行完整分析流程\"\"\"\n",
        "        print(\"开始围棋棋盘分析...\")\n",
        "\n",
        "        # 1. 上传并加载图像\n",
        "        self.upload_and_load_image()\n",
        "\n",
        "        # 2. 检测棋盘角点\n",
        "        self.detect_board_corners()\n",
        "\n",
        "        # 3. 检测网格线\n",
        "        self.detect_grid_lines()\n",
        "\n",
        "        # 4. 检测棋子\n",
        "        self.detect_stones()\n",
        "\n",
        "        # 5. 可视化结果\n",
        "        self.visualize_results()\n",
        "\n",
        "        # 6. 分析棋盘状态\n",
        "        self.analyze_board_state()\n",
        "\n",
        "        return {\n",
        "            'corners': self.corners,\n",
        "            'grid_points': self.grid_points,\n",
        "            'stones': self.stones\n",
        "        }"
      ],
      "metadata": {
        "id": "kqqE3jv3pxil"
      },
      "execution_count": null,
      "outputs": []
    },
    {
      "cell_type": "code",
      "source": [
        "# 使用示例\n",
        "def main():\n",
        "    # 创建分析器实例\n",
        "    analyzer = GoBoardAnalyzer()\n",
        "\n",
        "    # 运行完整分析\n",
        "    results = analyzer.run_full_analysis()\n",
        "\n",
        "    return analyzer, results"
      ],
      "metadata": {
        "id": "64x-Rb6Yp0D-"
      },
      "execution_count": null,
      "outputs": []
    },
    {
      "cell_type": "code",
      "source": [
        "if __name__ == \"__main__\":\n",
        "    print(\"围棋棋盘分析器已准备就绪！\")\n",
        "    print(\"运行 main() 函数开始分析\")\n",
        "\n",
        "    # 可以直接运行\n",
        "    # analyzer, results = main()"
      ],
      "metadata": {
        "id": "SjWm3oT0p23M"
      },
      "execution_count": null,
      "outputs": []
    }
  ]
}